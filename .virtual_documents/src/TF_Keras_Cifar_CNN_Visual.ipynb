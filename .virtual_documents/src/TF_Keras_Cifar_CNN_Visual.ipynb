%tensorflow_version 2.x


import tensorflow as tf
tf.__version__





from tensorflow.keras.datasets import cifar10


(x_train_image,y_train_label),\
(x_test_image,y_test_label)= cifar10.load_data()


y_train_label=y_train_label.reshape(-1)
y_test_label=y_test_label.reshape(-1)


x_train_normalize = x_train_image.astype('float32') / 255.0
x_test_normalize = x_test_image.astype('float32') / 255.0


from tensorflow.keras import utils
y_train_onehot = utils.to_categorical(y_train_label)
y_test_onehot = utils.to_categorical(y_test_label)


print("train data:",'images:',x_train_normalize.shape," labels:",y_train_onehot.shape) 
print("test  data:",'images:',x_test_normalize.shape ," labels:",y_test_onehot.shape) 


class_names =["airplane","automobile","bird","cat","deer",
       "dog","frog","horse","ship","truck"]





from tensorflow.keras.models import Sequential
from tensorflow.keras.layers import Dense, Dropout, Activation, Flatten
from tensorflow.keras.layers import Conv2D, MaxPooling2D, ReLU


model = Sequential()
model.add(Conv2D(
    filters=32,kernel_size=(3,3),input_shape=(32, 32,3),
    padding='same',activation='relu',name='conv1'))
model.add(MaxPooling2D(pool_size=(2, 2),name='pool1'))
model.add(Conv2D(
    filters=64, kernel_size=(3, 3), 
    padding='same',activation='relu',name='conv2'))
model.add(MaxPooling2D(pool_size=(2, 2),name='pool2'))
model.add(Flatten(name='flatten'))
model.add(Dense(1024, activation='relu',name='h1'))
model.add(Dense(10, activation='softmax',name='out'))


print(model.summary())


model.input  


model.output





model.compile(loss='categorical_crossentropy',optimizer='adam',metrics=['acc'])


#train_history=model.fit(
#    x=x_train_normalize,y=y_train_onehot,
#    validation_split=0.2,batch_size=200,epochs=10,verbose=2)





score=model.evaluate(x_test_normalize , y_test_onehot,verbose=2)





model.input


model.output


model.layers


DISPLAY_LAYER=4


output_layers = [layer.output for layer in model.layers[:DISPLAY_LAYER]] 
output_layers


from tensorflow.keras import models
feature_map_model = models.Model(inputs=model.input,outputs=output_layers)


feature_map_model.summary()


feature_map_model.input 


feature_map_model.output 





import matplotlib.pyplot as plt
def plot_image(image):
    fig = plt.gcf()
    fig.set_size_inches(2, 2)
    plt.imshow(image, cmap='binary')
    plt.show()


IMG_ID=16
plot_image(x_test_image[IMG_ID])


x_test_image[IMG_ID].shape


input_4d_img=(x_test_image[IMG_ID]
       .reshape(-1,32,32,3)
       .astype('float32')) / 255


input_4d_img.shape








feature_maps = feature_map_model.predict(input_4d_img)





train_history=model.fit(
  x=x_train_normalize,y=y_train_onehot,
  validation_split=0.2,batch_size=200,epochs=10,verbose=2)


score=model.evaluate(x_test_normalize , y_test_onehot,verbose=2)





feature_maps_trained = feature_map_model.predict(input_4d_img)  


len(feature_maps)





layer_names = []
for layer in feature_map_model.layers[1:DISPLAY_LAYER+1]:
    layer_names.append(layer.name)
    print(layer.name) 


for i in range(len(feature_maps)):
    print('layer',i,' ',
       layer_names[i],':',
       feature_maps[i].shape)





layer_names[0]


feature_maps[0].shape


import matplotlib.pyplot as plt
plt.imshow(feature_maps[0][0, :, :, 0], cmap='viridis')
plt.show()  


import matplotlib.pyplot as plt
plt.imshow(feature_maps[0][0, :, :, 12], cmap='viridis')
plt.show()  





layer_names[1]


feature_maps[1].shape


import matplotlib.pyplot as plt
plt.imshow(feature_maps[1][0, :, :, 2], cmap='viridis')
plt.show() 





import math
def display_feature_maps(
    feature_maps,layer_names,idx,
    fig_width=12,n_cols=10,p_cmap='viridis'):
   print('layer',idx,layer_names[idx],feature_maps[idx].shape) 
   n_feature_maps = feature_maps[idx].shape[3]
   n_rows = math.ceil(n_feature_maps / n_cols)
   fig = plt.gcf().set_size_inches(fig_width,n_rows*1.2 )
   for i in range(n_feature_maps):
       ax=plt.subplot(n_rows,n_cols, 1+i)
       ax.set_xticks([]);ax.set_yticks([])
       ax.imshow(feature_maps[idx][0, :, :, i],cmap=p_cmap)
   plt.show()








display_feature_maps(feature_maps,layer_names,idx=0) 


display_feature_maps(feature_maps_trained,layer_names,idx=0)





display_feature_maps(feature_maps,layer_names,idx=1)


display_feature_maps(feature_maps_trained,layer_names,idx=1)





display_feature_maps(feature_maps,layer_names,idx=2) 


display_feature_maps(feature_maps_trained,layer_names,idx=2) 





display_feature_maps(feature_maps,layer_names,idx=3)


display_feature_maps(feature_maps_trained,layer_names,idx=3)
